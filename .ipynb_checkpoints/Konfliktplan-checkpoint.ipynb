{
 "cells": [
  {
   "cell_type": "code",
   "execution_count": 4,
   "metadata": {},
   "outputs": [],
   "source": [
    "a = 'newname'\n",
    "!mkdir "
   ]
  },
  {
   "cell_type": "code",
   "execution_count": 1,
   "metadata": {},
   "outputs": [],
   "source": [
    "import pandas as pd"
   ]
  },
  {
   "cell_type": "code",
   "execution_count": 2,
   "metadata": {},
   "outputs": [],
   "source": [
    "veranstaltungen = pd.read_csv('Veranstaltungsliste_Fb12_Sose2019_20181206.csv')\n",
    "veranstaltungen = veranstaltungen.drop('Titel semabh.',axis = 1)\n",
    "veranstaltungen = veranstaltungen.rename({'Titel semunabh.':'Titel'}, axis = 1)\n",
    "veranstaltungen = veranstaltungen.set_index('Titel')\n",
    "veranstaltungen.von = pd.to_datetime(veranstaltungen.von, 'coerce', format='%H:%M').apply(pd.datetime.time)\n",
    "veranstaltungen.bis = pd.to_datetime(veranstaltungen.bis, 'coerce', format='%H:%M').apply(pd.datetime.time)\n",
    "veranstaltungen['Datum von'] = pd.to_datetime(veranstaltungen['Datum von'],'coerce')\n",
    "veranstaltungen['Datum bis'] = pd.to_datetime(veranstaltungen['Datum bis'],'coerce')\n",
    "veranstaltungen = veranstaltungen.loc[veranstaltungen['Rhyth.'] == 'woch']\n",
    "\n",
    "regel_studienplan = pd.read_csv('regelstudienplaene_3.csv')\n",
    "regel_studienplan = regel_studienplan.loc[regel_studienplan['Anzeigen'].apply(lambda x: x in ('1','2'))]"
   ]
  },
  {
   "cell_type": "code",
   "execution_count": 3,
   "metadata": {},
   "outputs": [],
   "source": [
    "# Excluding irrelevant terms\n",
    "interesting_term = 'Sommer'\n",
    "def relevant_subject(row):\n",
    "    return not (row['Variante'] == 'Winter') ^ (row['Semester'] % 2 ==0)\n",
    "regel_studienplan = regel_studienplan.loc[regel_studienplan[['Variante','Semester']].apply(relevant_subject, axis = 1)]"
   ]
  },
  {
   "cell_type": "code",
   "execution_count": 4,
   "metadata": {},
   "outputs": [],
   "source": [
    "def title_conflicts(title_a, title_b):\n",
    "    res = []\n",
    "    veran_a = veranstaltungen.loc[veranstaltungen.index == title_a]\n",
    "    veran_b = veranstaltungen.loc[veranstaltungen.index == title_b]\n",
    "    def do_conflict(event_a, event_b):\n",
    "        if not event_a.Tag == event_b.Tag:\n",
    "            return False\n",
    "        s_a = event_a.von\n",
    "        s_b = event_b.von\n",
    "        e_a = event_a.bis\n",
    "        e_b = event_b.bis\n",
    "        return not (s_a < e_b) ^ (e_a > s_b)\n",
    "    for i in range(len(veran_a)):\n",
    "        for j in range(len(veran_b)):\n",
    "            if do_conflict(veran_a.iloc[i], veran_b.iloc[j]):\n",
    "                res.append([veran_a.iloc[i], veran_b.iloc[j]])\n",
    "    return res"
   ]
  },
  {
   "cell_type": "code",
   "execution_count": 5,
   "metadata": {},
   "outputs": [],
   "source": [
    "df = pd.read_csv('Veranstaltungsliste_Fb12_Sose2019_20181206.csv')\n",
    "a= df.loc[df['Titel semunabh.'] == 'Algorithmen und Datenstrukturen']"
   ]
  },
  {
   "cell_type": "code",
   "execution_count": 6,
   "metadata": {},
   "outputs": [],
   "source": [
    "class Conflict:\n",
    "    def __init__(self, data, degree, variant, semester):\n",
    "        self.data = data\n",
    "        self.degree = degree\n",
    "        self.variant = variant\n",
    "        self.semester = semester\n",
    "        \n",
    "    def __repr__(self):\n",
    "        res = \"\"\"\\n{},{},{}\n",
    "        {}\n",
    "        \"\"\".format( self.degree, self.variant, self.semester,self.data)\n",
    "        return res\n",
    "    "
   ]
  },
  {
   "cell_type": "code",
   "execution_count": 7,
   "metadata": {},
   "outputs": [],
   "source": [
    "def find_conflicts():\n",
    "    res = []\n",
    "    degrees = regel_studienplan.groupby('Studiengang')\n",
    "    for d_name, degree in degrees:\n",
    "        for v_name, variant in degree.groupby('Variante'):\n",
    "            for s_name, semester in variant.groupby('Semester'):\n",
    "                for i in range(len(semester)):\n",
    "                    for j in range(i+1,len(semester)):\n",
    "                        conflicts = title_conflicts(semester.iloc[i].Titel, semester.iloc[j].Titel)\n",
    "                        if conflicts:\n",
    "                            for conflict in conflicts:\n",
    "                                res.append(Conflict(conflict, d_name, v_name, s_name))\n",
    "    return res\n",
    "\n",
    "c = find_conflicts()"
   ]
  },
  {
   "cell_type": "code",
   "execution_count": 37,
   "metadata": {},
   "outputs": [
    {
     "data": {
      "text/html": [
       "<div>\n",
       "<style scoped>\n",
       "    .dataframe tbody tr th:only-of-type {\n",
       "        vertical-align: middle;\n",
       "    }\n",
       "\n",
       "    .dataframe tbody tr th {\n",
       "        vertical-align: top;\n",
       "    }\n",
       "\n",
       "    .dataframe thead th {\n",
       "        text-align: right;\n",
       "    }\n",
       "</style>\n",
       "<table border=\"1\" class=\"dataframe\">\n",
       "  <thead>\n",
       "    <tr style=\"text-align: right;\">\n",
       "      <th></th>\n",
       "      <th>Studiengang</th>\n",
       "      <th>Variante</th>\n",
       "      <th>Semester</th>\n",
       "      <th>Tag</th>\n",
       "      <th>Titel_a</th>\n",
       "      <th>Titel_b</th>\n",
       "    </tr>\n",
       "  </thead>\n",
       "  <tbody>\n",
       "    <tr>\n",
       "      <th>0</th>\n",
       "      <td>BSc Mathematik</td>\n",
       "      <td>Winter</td>\n",
       "      <td>2</td>\n",
       "      <td>Fr</td>\n",
       "      <td>Lineare Algebra II (08:15 - 10:00)</td>\n",
       "      <td>Analysis I (08:15 - 10:00)</td>\n",
       "    </tr>\n",
       "    <tr>\n",
       "      <th>1</th>\n",
       "      <td>BSc Wirtschaftsmathematik</td>\n",
       "      <td>Winter</td>\n",
       "      <td>2</td>\n",
       "      <td>Fr</td>\n",
       "      <td>Lineare Algebra II (08:15 - 10:00)</td>\n",
       "      <td>Analysis I (08:15 - 10:00)</td>\n",
       "    </tr>\n",
       "  </tbody>\n",
       "</table>\n",
       "</div>"
      ],
      "text/plain": [
       "                 Studiengang Variante  Semester Tag  \\\n",
       "0             BSc Mathematik   Winter         2  Fr   \n",
       "1  BSc Wirtschaftsmathematik   Winter         2  Fr   \n",
       "\n",
       "                              Titel_a                     Titel_b  \n",
       "0  Lineare Algebra II (08:15 - 10:00)  Analysis I (08:15 - 10:00)  \n",
       "1  Lineare Algebra II (08:15 - 10:00)  Analysis I (08:15 - 10:00)  "
      ]
     },
     "execution_count": 37,
     "metadata": {},
     "output_type": "execute_result"
    }
   ],
   "source": [
    "res = []\n",
    "for conflict in c:\n",
    "    title_a = '{} ({} - {})'.format(conflict.data[0].name, str(conflict.data[0].von.strftime('%H:%M')), str(conflict.data[0].bis.strftime('%H:%M')))\n",
    "    title_b = '{} ({} - {})'.format(conflict.data[1].name, str(conflict.data[1].von.strftime('%H:%M')), str(conflict.data[1].bis.strftime('%H:%M')))\n",
    "    tag = conflict.data[0].Tag\n",
    "    res.append([conflict.degree, conflict.variant, conflict.semester, tag, title_a, title_b])\n",
    "pd.DataFrame(res,columns=['Studiengang','Variante','Semester','Tag','Titel_a','Titel_b'])"
   ]
  }
 ],
 "metadata": {
  "kernelspec": {
   "display_name": "Python 3",
   "language": "python",
   "name": "python3"
  },
  "language_info": {
   "codemirror_mode": {
    "name": "ipython",
    "version": 3
   },
   "file_extension": ".py",
   "mimetype": "text/x-python",
   "name": "python",
   "nbconvert_exporter": "python",
   "pygments_lexer": "ipython3",
   "version": "3.6.5"
  }
 },
 "nbformat": 4,
 "nbformat_minor": 2
}
